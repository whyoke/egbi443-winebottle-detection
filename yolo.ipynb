{
 "cells": [
  {
   "cell_type": "code",
   "execution_count": 11,
   "metadata": {},
   "outputs": [],
   "source": [
    "import cv2  \n",
    "import math\n",
    "import time\n",
    "from ultralytics import YOLO"
   ]
  },
  {
   "cell_type": "code",
   "execution_count": null,
   "metadata": {},
   "outputs": [],
   "source": [
    "model = YOLO(\"yolov8n.pt\") ## \"yolo11n.pt\"\n",
    "\n",
    "results = model.train(data=\"wine_data/data.yaml\", epochs=100, imgsz=640)"
   ]
  },
  {
   "cell_type": "code",
   "execution_count": null,
   "metadata": {},
   "outputs": [],
   "source": [
    "\n",
    "#start the webcam\n",
    "cap = cv2.VideoCapture(0)\n",
    "cap.set(3, 1280)\n",
    "cap.set(4, 720)\n",
    "\n",
    "model = YOLO(\"runs/detect/train2/weights/best.pt\")\n",
    "classNames =[\"wine bottle\"]\n",
    "\n",
    "while True:\n",
    "\n",
    "    start_time = time.time()\n",
    "\n",
    "    success, img = cap.read()\n",
    "\n",
    "    results = model(img, show=False, conf=0.7)\n",
    "\n",
    "    time_now = time.strftime(\"%Y-%m-%d %H:%M:%S\", time.gmtime(time.time() + 7*3600))\n",
    "\n",
    "    cv2.putText(img, f\"{time_now}\", (10, 30), cv2.FONT_HERSHEY_SIMPLEX, 1, (0, 0, 255), 2)\n",
    "\n",
    "    for r in results:\n",
    "        boxes = r.boxes\n",
    "        num_predictions = len(boxes)\n",
    "\n",
    "        for box in boxes:\n",
    "\n",
    "            x1, y1, x2, y2 = box.xyxy[0]\n",
    "            x1, y1, x2, y2 = int(x1), int(y1), int(x2), int(y2) \n",
    "\n",
    "            cv2.rectangle(img, (x1, y1), (x2, y2), (255, 0, 255), 2)\n",
    "\n",
    "            confidence = math.ceil((box.conf[0]*100))/100\n",
    "\n",
    "            if confidence > 0.8:\n",
    "\n",
    "                cls = int(box.cls[0])\n",
    "\n",
    "                org = [x1, y1]\n",
    "                font = cv2.FONT_HERSHEY_SIMPLEX\n",
    "                fontScale = 1\n",
    "                color = (255, 0, 0) ## red \n",
    "                thickness = 2\n",
    "\n",
    "                cv2.putText(img, f\"{classNames[cls]} {confidence:.2f}\", org, font, fontScale, color, thickness)\n",
    "                cv2.putText(img, f\"Number of predictions : {num_predictions}\", (10, 60), cv2.FONT_HERSHEY_SIMPLEX, 1, (0, 255, 0), 2)\n",
    "\n",
    "    cv2.imshow('Webcam', img)\n",
    "    if cv2.waitKey(1) == ord('q'):\n",
    "        break\n",
    "\n",
    "cap.release()\n",
    "cv2.destroyAllWindows()\n"
   ]
  }
 ],
 "metadata": {
  "kernelspec": {
   "display_name": "capil",
   "language": "python",
   "name": "python3"
  },
  "language_info": {
   "codemirror_mode": {
    "name": "ipython",
    "version": 3
   },
   "file_extension": ".py",
   "mimetype": "text/x-python",
   "name": "python",
   "nbconvert_exporter": "python",
   "pygments_lexer": "ipython3",
   "version": "3.11.7"
  }
 },
 "nbformat": 4,
 "nbformat_minor": 2
}
